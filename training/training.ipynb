{
 "cells": [
  {
   "cell_type": "code",
   "execution_count": 9,
   "metadata": {},
   "outputs": [],
   "source": [
    "import tensorflow as tf\n",
    "import matplotlib.pyplot as plt\n",
    "from tensorflow.keras.layers import res"
   ]
  },
  {
   "cell_type": "code",
   "execution_count": 13,
   "metadata": {},
   "outputs": [
    {
     "name": "stdout",
     "output_type": "stream",
     "text": [
      "(60000, 28, 28)\n",
      "(10000, 28, 28)\n"
     ]
    }
   ],
   "source": [
    "(x_train, y_train), (x_test, y_test) = tf.keras.datasets.mnist.load_data()\n",
    "\n",
    "print(x_train.shape)\n",
    "print(x_test.shape)"
   ]
  },
  {
   "cell_type": "code",
   "execution_count": 12,
   "metadata": {},
   "outputs": [
    {
     "name": "stdout",
     "output_type": "stream",
     "text": [
      "5\n"
     ]
    },
    {
     "data": {
      "image/png": "[encoded data removed]",
      "text/plain": [
       "<Figure size 640x480 with 1 Axes>"
      ]
     },
     "metadata": {},
     "output_type": "display_data"
    }
   ],
   "source": [
    "plt.imshow(x_train[0])\n",
    "print(y_train[0])"
   ]
  },
  {
   "cell_type": "code",
   "execution_count": 34,
   "metadata": {},
   "outputs": [],
   "source": [
    "model = tf.keras.models.Sequential([\n",
    "    tf.keras.layers.Rescaling(scale= 1./255, input_shape = (28,28,1)),\n",
    "     tf.keras.layers.Flatten(input_shape=(28, 28)),\n",
    "    tf.keras.layers.Dense(128, activation='relu'),\n",
    "    tf.keras.layers.Dense(10)\n",
    "])"
   ]
  },
  {
   "cell_type": "code",
   "execution_count": 35,
   "metadata": {},
   "outputs": [
    {
     "name": "stdout",
     "output_type": "stream",
     "text": [
      "Model: \"sequential_7\"\n",
      "_________________________________________________________________\n",
      " Layer (type)                Output Shape              Param #   \n",
      "=================================================================\n",
      " rescaling_7 (Rescaling)     (None, 28, 28, 1)         0         \n",
      "                                                                 \n",
      " flatten_7 (Flatten)         (None, 784)               0         \n",
      "                                                                 \n",
      " dense_16 (Dense)            (None, 128)               100480    \n",
      "                                                                 \n",
      " dense_17 (Dense)            (None, 10)                1290      \n",
      "                                                                 \n",
      "=================================================================\n",
      "Total params: 101,770\n",
      "Trainable params: 101,770\n",
      "Non-trainable params: 0\n",
      "_________________________________________________________________\n"
     ]
    }
   ],
   "source": [
    "model.summary()"
   ]
  },
  {
   "cell_type": "code",
   "execution_count": 36,
   "metadata": {},
   "outputs": [],
   "source": [
    "model.compile(\n",
    "    optimizer=tf.keras.optimizers.Adam(0.001),\n",
    "    loss=tf.keras.losses.SparseCategoricalCrossentropy(from_logits=True),\n",
    "    metrics=[tf.keras.metrics.SparseCategoricalAccuracy()],\n",
    ")"
   ]
  },
  {
   "cell_type": "code",
   "execution_count": 38,
   "metadata": {},
   "outputs": [
    {
     "name": "stdout",
     "output_type": "stream",
     "text": [
      "Epoch 1/10\n",
      "844/844 [==============================] - 3s 4ms/step - loss: 0.0183 - sparse_categorical_accuracy: 0.9948 - val_loss: 0.0788 - val_sparse_categorical_accuracy: 0.9800\n",
      "Epoch 2/10\n",
      "844/844 [==============================] - 4s 4ms/step - loss: 0.0151 - sparse_categorical_accuracy: 0.9962 - val_loss: 0.0809 - val_sparse_categorical_accuracy: 0.9795\n",
      "Epoch 3/10\n",
      "844/844 [==============================] - 3s 4ms/step - loss: 0.0123 - sparse_categorical_accuracy: 0.9968 - val_loss: 0.0850 - val_sparse_categorical_accuracy: 0.9777\n",
      "Epoch 4/10\n",
      "844/844 [==============================] - 3s 4ms/step - loss: 0.0099 - sparse_categorical_accuracy: 0.9978 - val_loss: 0.0861 - val_sparse_categorical_accuracy: 0.9798\n",
      "Epoch 5/10\n",
      "844/844 [==============================] - 3s 4ms/step - loss: 0.0082 - sparse_categorical_accuracy: 0.9981 - val_loss: 0.0907 - val_sparse_categorical_accuracy: 0.9783\n",
      "Epoch 6/10\n",
      "844/844 [==============================] - 3s 4ms/step - loss: 0.0077 - sparse_categorical_accuracy: 0.9981 - val_loss: 0.0975 - val_sparse_categorical_accuracy: 0.9773\n",
      "Epoch 7/10\n",
      "844/844 [==============================] - 3s 4ms/step - loss: 0.0083 - sparse_categorical_accuracy: 0.9977 - val_loss: 0.0861 - val_sparse_categorical_accuracy: 0.9797\n",
      "Epoch 8/10\n",
      "844/844 [==============================] - 3s 4ms/step - loss: 0.0067 - sparse_categorical_accuracy: 0.9984 - val_loss: 0.0931 - val_sparse_categorical_accuracy: 0.9790\n",
      "Epoch 9/10\n",
      "844/844 [==============================] - 3s 4ms/step - loss: 0.0045 - sparse_categorical_accuracy: 0.9990 - val_loss: 0.0966 - val_sparse_categorical_accuracy: 0.9783\n",
      "Epoch 10/10\n",
      "844/844 [==============================] - 3s 4ms/step - loss: 0.0042 - sparse_categorical_accuracy: 0.9991 - val_loss: 0.0907 - val_sparse_categorical_accuracy: 0.9803\n"
     ]
    },
    {
     "data": {
      "text/plain": [
       "<keras.callbacks.History at 0x190c27f5908>"
      ]
     },
     "execution_count": 38,
     "metadata": {},
     "output_type": "execute_result"
    }
   ],
   "source": [
    "model.fit(x_train, y_train, batch_size=64, epochs= 10, validation_split=0.1)"
   ]
  },
  {
   "cell_type": "code",
   "execution_count": 39,
   "metadata": {},
   "outputs": [],
   "source": [
    "model.save('my_model.h5')\n"
   ]
  }
 ],
 "metadata": {
  "kernelspec": {
   "display_name": "digit",
   "language": "python",
   "name": "python3"
  },
  "language_info": {
   "codemirror_mode": {
    "name": "ipython",
    "version": 3
   },
   "file_extension": ".py",
   "mimetype": "text/x-python",
   "name": "python",
   "nbconvert_exporter": "python",
   "pygments_lexer": "ipython3",
   "version": "3.7.15"
  },
  "orig_nbformat": 4,
  "vscode": {
   "interpreter": {
    "hash": "cc1ea33db0ff6958c54a97f436fc8e9b0b851ff9a7c388c912584ed2435dbc8c"
   }
  }
 },
 "nbformat": 4,
 "nbformat_minor": 2
}
